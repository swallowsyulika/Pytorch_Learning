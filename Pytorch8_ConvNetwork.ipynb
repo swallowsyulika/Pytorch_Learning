{
 "cells": [
  {
   "cell_type": "code",
   "execution_count": 1,
   "metadata": {},
   "outputs": [
    {
     "name": "stdout",
     "output_type": "stream",
     "text": [
      "Data load down! 24946 imgs\n",
      "DATA SPLIT DONE\n",
      "RUNNING GPU\n"
     ]
    }
   ],
   "source": [
    "import os\n",
    "import cv2\n",
    "import numpy as np\n",
    "from tqdm import tqdm\n",
    "import torch\n",
    "import torch.nn as nn\n",
    "import torch.nn.functional as F\n",
    "from torchvision import transforms\n",
    "import torch.optim as optim\n",
    "\n",
    "\n",
    "# make data list ---------------------------------------------------------\n",
    "REBUILD_DATA = False\n",
    "DataList = \"PetImages/Traing_Data_List.npy\"\n",
    "\n",
    "class DogsVSCats():\n",
    "    IMG_SIZE = 50\n",
    "    CATS = \"PetImages/Cat\"\n",
    "    DOGS = \"PetImages/Dog\"\n",
    "    LABELS = {CATS: 0, DOGS: 1}\n",
    "    trainingData = []\n",
    "    catCount = 0\n",
    "    dogCount = 0\n",
    "    \n",
    "    def make_training_data(self):\n",
    "        for label in self.LABELS:    # label -> path\n",
    "            print(label)\n",
    "            for f in tqdm(os.listdir(label)):    # f -> img name, ex: 1.jpg 2.jpg ...\n",
    "                try:\n",
    "                    path = os.path.join(label, f)\n",
    "                    img = cv2.imread(path, cv2.IMREAD_GRAYSCALE)\n",
    "                    img = cv2.resize(img, (self.IMG_SIZE, self.IMG_SIZE))\n",
    "                    # one hot, np.eye(2)[0] -> [1, 0], np.eye(5)[2] -> [0, 0, 1, 0, 0]\n",
    "                    self.trainingData.append([np.array(img), np.eye(2)[self.LABELS[label]]])\n",
    "\n",
    "                    if label == self.CATS:\n",
    "                        self.catCount += 1\n",
    "                    elif label == self.DOGS:\n",
    "                        self.dogCount += 1\n",
    "                except Exception as e:\n",
    "                    pass\n",
    "                    #print(\"IMG ERROR: \", e)\n",
    "        \n",
    "        np.random.shuffle(self.trainingData)\n",
    "        np.save(DataList, self.trainingData)\n",
    "        print(\"Cats: \", self.catCount)\n",
    "        print(\"Dogs: \", self.dogCount)\n",
    "            \n",
    "\n",
    "if REBUILD_DATA:\n",
    "    dogsvscats = DogsVSCats()\n",
    "    dogsvscats.make_training_data()\n",
    "                \n",
    "training_data = np.load(DataList, allow_pickle=True)\n",
    "print(f\"Data load down! {len(training_data)} imgs\")\n",
    "\n",
    "\n",
    "# net structure -----------------------------------------------------------\n",
    "class Net(nn.Module):\n",
    "    def __init__(self):\n",
    "        super().__init__()\n",
    "        self.conv1 = nn.Conv2d(1, 32, 5)\n",
    "        self.conv2 = nn.Conv2d(32, 64, 5)\n",
    "        self.conv3 = nn.Conv2d(64, 128, 5)\n",
    "        self.pool = nn.MaxPool2d(2, 2)\n",
    "        self.fc1 = nn.Linear(128*2*2, 512)\n",
    "        self.fc2 = nn.Linear(512, 2)\n",
    "        \n",
    "    def forward(self, x):\n",
    "        x = self.pool(F.relu(self.conv1(x)))\n",
    "        x = self.pool(F.relu(self.conv2(x)))\n",
    "        x = self.pool(F.relu(self.conv3(x)))\n",
    "        x = torch.flatten(x, start_dim=1)  \n",
    "        x = F.relu(self.fc1(x))\n",
    "        x = self.fc2(x)\n",
    "        return F.softmax(x, dim=1)\n",
    "\n",
    "\n",
    "# data split ---------------------------------------------------------------\n",
    "X = torch.Tensor([i[0] for i in training_data]).view(-1, 50, 50)\n",
    "X = X/255.0 \n",
    "y = torch.Tensor([i[1] for i in training_data])\n",
    "\n",
    "VAL_PCT = 0.1\n",
    "val_size = int(len(X)*VAL_PCT)\n",
    "\n",
    "train_X = X[:-val_size]\n",
    "train_y = y[:-val_size]\n",
    "\n",
    "test_X = X[-val_size:]\n",
    "test_y = y[-val_size:]\n",
    "print(\"DATA SPLIT DONE\")\n",
    "\n",
    "\n",
    "# cuda is on ---------------------------------------------------------------\n",
    "if torch.cuda.is_available():\n",
    "    device = torch.device(\"cuda:0\")\n",
    "    print(\"RUNNING GPU\")\n",
    "else:\n",
    "    device = torch.device(\"cpu\")\n",
    "    print(\"RUNNING CPU\")\n",
    "    \n",
    "\n",
    "# net set ------------------------------------------------------------------\n",
    "net = Net().to(device)\n",
    "optimizer = optim.Adam(net.parameters(), lr=0.001)\n",
    "loss_function = nn.MSELoss()"
   ]
  },
  {
   "cell_type": "code",
   "execution_count": 2,
   "metadata": {},
   "outputs": [],
   "source": [
    "def fwd_pass(X, y, train=False):\n",
    "    if train:\n",
    "        net.zero_grad()\n",
    "    outputs = net(X)\n",
    "    matches = [torch.argmax(i) == torch.argmax(j) for i, j in zip(outputs, y)]\n",
    "    acc = matches.count(True)/len(matches)\n",
    "    loss = loss_function(outputs, y)\n",
    "    \n",
    "    if train:\n",
    "        loss.backward()\n",
    "        optimizer.step()\n",
    "    return acc, loss\n",
    "    "
   ]
  },
  {
   "cell_type": "code",
   "execution_count": 4,
   "metadata": {},
   "outputs": [
    {
     "name": "stdout",
     "output_type": "stream",
     "text": [
      "ACC: 0.5625,LOSS: 0.2496219277381897\n"
     ]
    }
   ],
   "source": [
    "def test(size=32):\n",
    "    random_start = np.random.randint(len(test_X) - size)\n",
    "    X, y = test_X[random_start:random_start+size], test_y[random_start:random_start+size]\n",
    "    with torch.no_grad():\n",
    "        val_acc, val_loss = fwd_pass(X.view(-1, 1, 50, 50).to(device), y.to(device))\n",
    "    return val_acc, val_loss\n",
    "\n",
    "val_acc, val_loss = test(size=32)\n",
    "print(f\"ACC: {val_acc}, LOSS: {val_loss}\")"
   ]
  },
  {
   "cell_type": "code",
   "execution_count": 6,
   "metadata": {},
   "outputs": [
    {
     "name": "stderr",
     "output_type": "stream",
     "text": [
      "  0%|▎                                                                                 | 1/225 [00:00<00:26,  8.42it/s]"
     ]
    },
    {
     "name": "stdout",
     "output_type": "stream",
     "text": [
      "DogsCatsModel-1600438293.709308\n"
     ]
    },
    {
     "name": "stderr",
     "output_type": "stream",
     "text": [
      "100%|████████████████████████████████████████████████████████████████████████████████| 225/225 [00:12<00:00, 18.64it/s]\n",
      "100%|████████████████████████████████████████████████████████████████████████████████| 225/225 [00:11<00:00, 18.90it/s]\n",
      "100%|████████████████████████████████████████████████████████████████████████████████| 225/225 [00:11<00:00, 18.81it/s]\n",
      "100%|████████████████████████████████████████████████████████████████████████████████| 225/225 [00:11<00:00, 18.87it/s]\n",
      "100%|████████████████████████████████████████████████████████████████████████████████| 225/225 [00:13<00:00, 17.11it/s]\n",
      "100%|████████████████████████████████████████████████████████████████████████████████| 225/225 [00:14<00:00, 15.85it/s]\n",
      "100%|████████████████████████████████████████████████████████████████████████████████| 225/225 [00:14<00:00, 15.07it/s]\n",
      "100%|████████████████████████████████████████████████████████████████████████████████| 225/225 [00:12<00:00, 17.56it/s]\n",
      "100%|████████████████████████████████████████████████████████████████████████████████| 225/225 [00:12<00:00, 17.74it/s]\n",
      "100%|████████████████████████████████████████████████████████████████████████████████| 225/225 [00:13<00:00, 16.80it/s]\n"
     ]
    }
   ],
   "source": [
    "import time\n",
    "\n",
    "MODEL_NAME = f\"DogsCatsModel-{time.time()}\"\n",
    "\n",
    "net = Net().to(device)\n",
    "optimizer = optim.Adam(net.parameters(), lr=0.001)\n",
    "loss_function = nn.MSELoss()\n",
    "\n",
    "print(MODEL_NAME)\n",
    "\n",
    "def train():\n",
    "    BATCH_SIZE = 100\n",
    "    EPOCHS = 10\n",
    "    with open(\"model.log\", \"a\") as f:\n",
    "        for epoch in range(EPOCHS):\n",
    "            for i in tqdm(range(0, len(train_X), BATCH_SIZE)):\n",
    "                batch_X = train_X[i:i+BATCH_SIZE].view(-1, 1, 50, 50).to(device)\n",
    "                batch_y = train_y[i:i+BATCH_SIZE].to(device)\n",
    "                \n",
    "                acc, loss = fwd_pass(batch_X, batch_y, train=True)\n",
    "                if i % 50 == 0:\n",
    "                    val_acc, val_loss = test(size=32)\n",
    "                    f.write(f\"{MODEL_NAME},{round(time.time(), 3)},{round(float(acc), 2)},{round(float(loss), 4)},{round(float(val_acc), 2)},{round(float(val_loss), 4)}\\n\")\n",
    "\n",
    "train()                "
   ]
  },
  {
   "cell_type": "code",
   "execution_count": 10,
   "metadata": {},
   "outputs": [
    {
     "data": {
      "image/png": "[encoded data removed]",
      "text/plain": [
       "<Figure size 432x288 with 2 Axes>"
      ]
     },
     "metadata": {},
     "output_type": "display_data"
    }
   ],
   "source": [
    "import matplotlib.pyplot as plt\n",
    "from matplotlib import style\n",
    "import pandas \n",
    "\n",
    "style.use(\"ggplot\")\n",
    "model_name = MODEL_NAME\n",
    "\n",
    "def creat_acc_loss_graph(model_name):\n",
    "    contents = open(\"model.log\", \"r\").read().split(\"\\n\")\n",
    "    times = []\n",
    "    accs = []\n",
    "    losses = []\n",
    "    \n",
    "    val_accs = []\n",
    "    val_losses = []\n",
    "    \n",
    "    for c in contents:\n",
    "        if model_name in c:\n",
    "            name, time, acc, loss, val_acc, val_loss = c.split(\",\")\n",
    "            times.append(float(time))\n",
    "            accs.append(float(acc))\n",
    "            losses.append(float(loss))\n",
    "            \n",
    "            val_accs.append(float(val_acc))\n",
    "            val_losses.append(float(val_loss))\n",
    "            \n",
    "    fig = plt.figure()\n",
    "    \n",
    "    ax1 = plt.subplot2grid((2, 1), (0, 0))\n",
    "    ax2 = plt.subplot2grid((2, 1), (1, 0), sharex=ax1)\n",
    "    \n",
    "    ax1.plot(times, accs, label=\"ACC\")\n",
    "    ax1.plot(times, val_accs, label=\"VAL_ACC\")\n",
    "    ax1.legend(loc=2)\n",
    "    \n",
    "    ax2.plot(times, losses, label=\"LOSS\")\n",
    "    ax2.plot(times, val_losses, label=\"VAL_LOSS\")\n",
    "    ax2.legend(loc=2)\n",
    "    \n",
    "    plt.show()\n",
    "    \n",
    "creat_acc_loss_graph(model_name)\n",
    "\n",
    "# ACC and VAL_ACC keep together raise that mean you can keep going to training\n",
    "# when they diverge, that mean you have problem\n",
    "# usually loss will diverge first before ACC"
   ]
  },
  {
   "cell_type": "code",
   "execution_count": null,
   "metadata": {},
   "outputs": [],
   "source": []
  }
 ],
 "metadata": {
  "kernelspec": {
   "display_name": "Python 3",
   "language": "python",
   "name": "python3"
  },
  "language_info": {
   "codemirror_mode": {
    "name": "ipython",
    "version": 3
   },
   "file_extension": ".py",
   "mimetype": "text/x-python",
   "name": "python",
   "nbconvert_exporter": "python",
   "pygments_lexer": "ipython3",
   "version": "3.8.5"
  }
 },
 "nbformat": 4,
 "nbformat_minor": 4
}
